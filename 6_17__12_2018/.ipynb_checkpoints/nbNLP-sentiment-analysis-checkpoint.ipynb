{
 "cells": [
  {
   "cell_type": "markdown",
   "metadata": {
    "slideshow": {
     "slide_type": "slide"
    }
   },
   "source": [
    "# Tutorial: Sentiment Analysis with Python\n",
    "##### Author: Argyris Argyrou, PhD candidate @ Cyprus University of Technology"
   ]
  },
  {
   "cell_type": "markdown",
   "metadata": {
    "slideshow": {
     "slide_type": "slide"
    }
   },
   "source": [
    "#### What is Sentiment Analysis—Opinion Mining?\n",
    "Sentiment Analysis also known as Opinion Mining is a field within Natural Language Processing (NLP) that builds systems that try to identify and extract opinions within text. Usually, besides identifying the opinion, these systems extract attributes of the expression e.g.:\n",
    "\n",
    "- **Polarity**: if the speaker express a positive or negative opinion,\n",
    "- **Subject**: the thing that is being talked about,\n",
    "- **Opinion holder**: the person, or entity that expresses the opinion.\n"
   ]
  },
  {
   "cell_type": "markdown",
   "metadata": {
    "slideshow": {
     "slide_type": "slide"
    }
   },
   "source": [
    "#### What Is an Opinion?\n",
    "Text information can be broadly categorized into two main types: **facts** and **opinions**. Facts are objective expressions about something. Opinions are usually subjective expressions that describe people’s sentiments, appraisals, and feelings toward a subject or topic.\n",
    "<br><br>\n",
    "Sentiment analysis, just as many other NLP problems, can be modeled as a *classification* problem where two sub-problems must be resolved:\n",
    "\n",
    "- Classifying a sentence as *subjective* or *objective*, known as **subjectivity classification**.\n",
    "- Classifying a sentence as expressing a *positive*, *egative* or *neutral opinion*, known as **polarity classification**."
   ]
  },
  {
   "cell_type": "markdown",
   "metadata": {
    "slideshow": {
     "slide_type": "slide"
    }
   },
   "source": [
    "#####  Direct vs Comparative Opinions\n",
    "Direct opinions give an opinion about a entity directly, for example:\n",
    "<br><br>\n",
    "> \"The picture quality of camera A is poor.\"<br>\n",
    "> “The picture quality of camera A is better than that of camera B.”"
   ]
  },
  {
   "cell_type": "markdown",
   "metadata": {
    "slideshow": {
     "slide_type": "slide"
    }
   },
   "source": [
    "#####  Explicit vs Implicit Opinions\n",
    "\n",
    "An explicit opinion on a subject is an opinion explicitly expressed in a subjective sentence. \n",
    "> “The voice quality of this phone is amazing.”<br>\n",
    "\n",
    "An implicit opinion on a subject is an opinion implied in an objective sentence. The following sentence expresses an implicit negative opinion:\n",
    "> “The earphone broke in two days.” <br>"
   ]
  },
  {
   "cell_type": "markdown",
   "metadata": {
    "slideshow": {
     "slide_type": "slide"
    }
   },
   "source": [
    "#### Scope\n",
    "\n",
    "Sentiment analysis can be applied at different levels of scope: **Document** level, **Sentence** level, **Sub-sentence** level (sub-expressions within a sentence).\n",
    "<br>\n",
    "There are many types and flavors of sentiment analysis and SA tools range from systems that focus on **polarity** (positive, negative, neutral) to systems that detect feelings and **emotions** (angry, happy, sad, etc) or **identify intentions** (e.g. interested v. not interested). "
   ]
  },
  {
   "cell_type": "markdown",
   "metadata": {
    "slideshow": {
     "slide_type": "slide"
    }
   },
   "source": [
    "#### Challenges\n",
    "\n",
    "- Subjectivity and Tone\n",
    "- Context and Polarity\n",
    "- Irony and Sarcasm\n",
    "- Comparisons\n",
    "- Emojis\n",
    "- Defining Neutral\n"
   ]
  },
  {
   "cell_type": "markdown",
   "metadata": {
    "slideshow": {
     "slide_type": "slide"
    }
   },
   "source": [
    "#### Use Cases & Applications\n",
    "\n",
    "- Social media monitoring\n",
    "- Brand monitoring\n",
    "- Voice of customer (VoC)\n",
    "- Customer service\n",
    "- Workforce analytics and voice of employee\n",
    "- Product analytics\n",
    "- Market research and analysis"
   ]
  },
  {
   "cell_type": "markdown",
   "metadata": {
    "slideshow": {
     "slide_type": "slide"
    }
   },
   "source": [
    "#### Sentiment Analysis Algorithms\n",
    "\n",
    "- **Rule-based** systems that perform sentiment analysis based on a set of manually crafted rules-lexicons.\n",
    "- **Automatic** systems that rely on machine learning techniques to learn from data-classifying.\n",
    "- **Hybrid** systems that combine both rule based and automatic approaches."
   ]
  },
  {
   "cell_type": "markdown",
   "metadata": {
    "slideshow": {
     "slide_type": "slide"
    }
   },
   "source": [
    "#### In code\n",
    "The code here is tested on Python 3 with TextBlob 0.6.1. If you're using Python 2, you'll probably need to add # -*- coding: utf-8 -*- and from __future__ import division, unicode_literals at the top."
   ]
  },
  {
   "cell_type": "markdown",
   "metadata": {
    "slideshow": {
     "slide_type": "slide"
    }
   },
   "source": [
    "#### Sentiment Analysis with Afinn\n",
    "\n",
    "The AFINN lexicon is perhaps one of the simplest and most popular lexicons that can be used extensively for sentiment analysis. "
   ]
  },
  {
   "cell_type": "code",
   "execution_count": null,
   "metadata": {
    "slideshow": {
     "slide_type": "slide"
    }
   },
   "outputs": [],
   "source": [
    "# To install AFINN, simply run\n",
    "# !pip install afinn"
   ]
  },
  {
   "cell_type": "code",
   "execution_count": 18,
   "metadata": {
    "slideshow": {
     "slide_type": "slide"
    }
   },
   "outputs": [
    {
     "data": {
      "text/plain": [
       "3.0"
      ]
     },
     "execution_count": 18,
     "metadata": {},
     "output_type": "execute_result"
    }
   ],
   "source": [
    "# initialize afinn sentiment analyzer\n",
    "from afinn import Afinn\n",
    "af = Afinn()\n",
    "af.score('This is utterly excellent')"
   ]
  },
  {
   "cell_type": "code",
   "execution_count": 12,
   "metadata": {
    "slideshow": {
     "slide_type": "slide"
    }
   },
   "outputs": [
    {
     "data": {
      "text/plain": [
       "2.0"
      ]
     },
     "execution_count": 12,
     "metadata": {},
     "output_type": "execute_result"
    }
   ],
   "source": [
    "af = Afinn(emoticons=True)\n",
    "af.score('I saw that yesterday :)')"
   ]
  },
  {
   "cell_type": "markdown",
   "metadata": {
    "slideshow": {
     "slide_type": "slide"
    }
   },
   "source": [
    "#### Sentiment Analysis with TextBlob\n",
    "TextBlob is another excellent open-source library for performing NLP tasks with ease, including sentiment analysis. "
   ]
  },
  {
   "cell_type": "code",
   "execution_count": 14,
   "metadata": {
    "collapsed": true,
    "slideshow": {
     "slide_type": "slide"
    }
   },
   "outputs": [
    {
     "name": "stdout",
     "output_type": "stream",
     "text": [
      "Collecting textblob\n",
      "  Using cached https://files.pythonhosted.org/packages/7c/7d/ad09a26b63d4ad3f9395840c72c95f2fc9fa2b192094ef14e9e720be56f9/textblob-0.15.2-py2.py3-none-any.whl\n",
      "Requirement already satisfied, skipping upgrade: nltk>=3.1 in /Users/argyrisargyrou/anaconda3/lib/python3.6/site-packages (from textblob) (3.3)\n",
      "Requirement already satisfied, skipping upgrade: six in /Users/argyrisargyrou/anaconda3/lib/python3.6/site-packages (from nltk>=3.1->textblob) (1.11.0)\n",
      "Installing collected packages: textblob\n",
      "Successfully installed textblob-0.15.2\n"
     ]
    }
   ],
   "source": [
    "# To install AFINN, simply run\n",
    "!pip install -U textblob"
   ]
  },
  {
   "cell_type": "markdown",
   "metadata": {
    "slideshow": {
     "slide_type": "slide"
    }
   },
   "source": [
    "The sentiment property returns a namedtuple of the form Sentiment(polarity, subjectivity). The polarity score is a float within the range [-1.0, 1.0]. The subjectivity is a float within the range [0.0, 1.0] where 0.0 is very objective and 1.0 is very subjective."
   ]
  },
  {
   "cell_type": "code",
   "execution_count": 16,
   "metadata": {
    "slideshow": {
     "slide_type": "slide"
    }
   },
   "outputs": [
    {
     "data": {
      "text/plain": [
       "Sentiment(polarity=0.39166666666666666, subjectivity=0.4357142857142857)"
      ]
     },
     "execution_count": 16,
     "metadata": {},
     "output_type": "execute_result"
    }
   ],
   "source": [
    "from textblob import TextBlob\n",
    "\n",
    "testimonial = TextBlob(\"Textblob is amazingly simple to use. What great fun!\")\n",
    "testimonial.sentiment"
   ]
  },
  {
   "cell_type": "markdown",
   "metadata": {
    "slideshow": {
     "slide_type": "slide"
    }
   },
   "source": [
    "#### Further reading\n",
    "The following are the most frequently cited and read papers in the sentiment analysis community in general:\n",
    "\n",
    "- Opinion mining and sentiment analysis (Pang and Lee, 2008)\n",
    "- Recognizing contextual polarity in phrase-level sentiment analysis (Wilson, Wiebe and Hoffmann, 2005).\n",
    "- Sentiment analysis and subjectivity (Liu, 2010)\n",
    "- A survey of opinion mining and sentiment analysis (Liu and Zhang, 2012)\n",
    "- Sentiment analysis and opinion mining (Liu, 2012)"
   ]
  },
  {
   "cell_type": "markdown",
   "metadata": {
    "slideshow": {
     "slide_type": "slide"
    }
   },
   "source": [
    "This tutorial is an abstract of the page below:<br>\n",
    "https://monkeylearn.com/sentiment-analysis/"
   ]
  }
 ],
 "metadata": {
  "celltoolbar": "Slideshow",
  "kernelspec": {
   "display_name": "Python 3",
   "language": "python",
   "name": "python3"
  },
  "language_info": {
   "codemirror_mode": {
    "name": "ipython",
    "version": 3
   },
   "file_extension": ".py",
   "mimetype": "text/x-python",
   "name": "python",
   "nbconvert_exporter": "python",
   "pygments_lexer": "ipython3",
   "version": "3.6.6"
  }
 },
 "nbformat": 4,
 "nbformat_minor": 2
}
