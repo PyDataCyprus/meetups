{
 "cells": [
  {
   "cell_type": "code",
   "execution_count": 1,
   "metadata": {
    "ExecuteTime": {
     "end_time": "2018-04-19T17:04:38.690022Z",
     "start_time": "2018-04-19T17:04:38.664928Z"
    }
   },
   "outputs": [
    {
     "data": {
      "text/plain": [
       "7"
      ]
     },
     "execution_count": 1,
     "metadata": {},
     "output_type": "execute_result"
    }
   ],
   "source": [
    "x = 5\n",
    "y = 2\n",
    "\n",
    "x+y"
   ]
  },
  {
   "cell_type": "markdown",
   "metadata": {},
   "source": [
    "Hello this my first example"
   ]
  },
  {
   "cell_type": "code",
   "execution_count": null,
   "metadata": {
    "ExecuteTime": {
     "end_time": "2018-04-19T17:05:53.813231Z",
     "start_time": "2018-04-19T17:05:53.780624Z"
    },
    "scrolled": true
   },
   "outputs": [],
   "source": [
    "for i in range (0,40):\n",
    "    print (\"A/a {0}\".format(i))"
   ]
  },
  {
   "cell_type": "code",
   "execution_count": 5,
   "metadata": {
    "ExecuteTime": {
     "end_time": "2018-04-19T17:07:03.356939Z",
     "start_time": "2018-04-19T17:07:03.348072Z"
    }
   },
   "outputs": [],
   "source": [
    "def defCallMyNme (myname ):\n",
    "    \"\"\"The method's prints my name\"\"\"\n",
    "    print (\"Hello\", myname)\n",
    "    return"
   ]
  },
  {
   "cell_type": "code",
   "execution_count": null,
   "metadata": {
    "collapsed": true
   },
   "outputs": [],
   "source": [
    "defCallMyNme()"
   ]
  },
  {
   "cell_type": "markdown",
   "metadata": {},
   "source": [
    "# title \n",
    "## major headings \n",
    "### subheadings \n",
    "#### 4th level subheadings\n",
    "\n"
   ]
  },
  {
   "cell_type": "markdown",
   "metadata": {
    "ExecuteTime": {
     "end_time": "2018-04-19T17:09:09.200129Z",
     "start_time": "2018-04-19T17:09:09.191831Z"
    }
   },
   "source": [
    "Bold: __string__ or **string** Italic: _string_ or *string*\n",
    "new line <br>\n",
    "Horizontal lines: Use three asterisks: ***"
   ]
  },
  {
   "cell_type": "code",
   "execution_count": 8,
   "metadata": {
    "ExecuteTime": {
     "end_time": "2018-04-19T17:11:06.957102Z",
     "start_time": "2018-04-19T17:11:06.818633Z"
    }
   },
   "outputs": [
    {
     "name": "stdout",
     "output_type": "stream",
     "text": [
      "/Users/gekko/PhD/pydata-meetups/foo/foo_env\r\n"
     ]
    }
   ],
   "source": [
    "!pwd"
   ]
  },
  {
   "cell_type": "code",
   "execution_count": 9,
   "metadata": {
    "ExecuteTime": {
     "end_time": "2018-04-19T17:12:01.204896Z",
     "start_time": "2018-04-19T17:12:01.163551Z"
    },
    "collapsed": true
   },
   "outputs": [],
   "source": [
    "%%bash\n",
    "mkdir foo1\n",
    "touch foo1/yolo\n"
   ]
  },
  {
   "cell_type": "code",
   "execution_count": 11,
   "metadata": {
    "ExecuteTime": {
     "end_time": "2018-04-19T17:12:11.919918Z",
     "start_time": "2018-04-19T17:12:11.773704Z"
    }
   },
   "outputs": [
    {
     "name": "stdout",
     "output_type": "stream",
     "text": [
      "Hello PyData Meetup.ipynb \u001b[34mfoo1\u001b[m\u001b[m                      \u001b[34mlib\u001b[m\u001b[m\r\n",
      "\u001b[34mbin\u001b[m\u001b[m                       \u001b[34minclude\u001b[m\u001b[m                   pyvenv.cfg\r\n"
     ]
    }
   ],
   "source": [
    "!ls"
   ]
  },
  {
   "cell_type": "code",
   "execution_count": 13,
   "metadata": {
    "ExecuteTime": {
     "end_time": "2018-04-19T17:13:21.544913Z",
     "start_time": "2018-04-19T17:13:20.790502Z"
    }
   },
   "outputs": [],
   "source": [
    "from newspaper import Article\n",
    "url = 'https://techcrunch.com/2018/04/16/coinbase-buys-earn-com-and-makes-ceo-balaji-srinivasan-its-first-cto/'"
   ]
  },
  {
   "cell_type": "code",
   "execution_count": null,
   "metadata": {
    "ExecuteTime": {
     "end_time": "2018-04-19T17:13:55.285448Z",
     "start_time": "2018-04-19T17:13:54.514405Z"
    }
   },
   "outputs": [],
   "source": [
    "article = Article(url)\n",
    "article.download()\n",
    "\n",
    "article.parse()\n",
    "article.text"
   ]
  },
  {
   "cell_type": "code",
   "execution_count": 15,
   "metadata": {
    "ExecuteTime": {
     "end_time": "2018-04-19T17:15:04.706437Z",
     "start_time": "2018-04-19T17:14:59.180542Z"
    }
   },
   "outputs": [
    {
     "data": {
      "text/plain": [
       "['balaji',\n",
       " 'srinivasan',\n",
       " 'andreessen',\n",
       " 'buys',\n",
       " 'blockchain',\n",
       " 'makes',\n",
       " 'ceo',\n",
       " 'earncom',\n",
       " 'million',\n",
       " 'horowitz',\n",
       " 'coinbase',\n",
       " 'company',\n",
       " 'told',\n",
       " 'deal',\n",
       " 'cto']"
      ]
     },
     "execution_count": 15,
     "metadata": {},
     "output_type": "execute_result"
    }
   ],
   "source": [
    "article.nlp()\n",
    "article.keywords"
   ]
  },
  {
   "cell_type": "code",
   "execution_count": 16,
   "metadata": {
    "ExecuteTime": {
     "end_time": "2018-04-19T17:15:36.580047Z",
     "start_time": "2018-04-19T17:15:36.568407Z"
    }
   },
   "outputs": [
    {
     "data": {
      "text/plain": [
       "'In addition, Coinbase has appointed Earn.com co-founder and CEO Balaji Srinivasan as its first CTO, while the rest of the team will transition over, too.\\nThe deal doesn’t come as a complete surprise as Coindesk reported last month that Coinbase and Earn.com were in talks over a deal.\\n(Andreessen Horowitz is also an investor in Coinbase, it should be noted.)\\n“With Coinbase’s user base and distribution muscle, I think it could hit $100 million in GMV over the next 12-18 months,” Srinivasan told TechCrunch.\\nSrinivasan will also continue to be involved with Andreessen Horowitz, and at Coinbase he’ll be part of the company’s recently announced investment arm, Coinbase Ventures.'"
      ]
     },
     "execution_count": 16,
     "metadata": {},
     "output_type": "execute_result"
    }
   ],
   "source": [
    "article.summary\n"
   ]
  },
  {
   "cell_type": "code",
   "execution_count": 17,
   "metadata": {
    "ExecuteTime": {
     "end_time": "2018-04-19T17:17:39.099679Z",
     "start_time": "2018-04-19T17:17:37.037509Z"
    }
   },
   "outputs": [
    {
     "data": {
      "text/html": [
       "<div>\n",
       "<style scoped>\n",
       "    .dataframe tbody tr th:only-of-type {\n",
       "        vertical-align: middle;\n",
       "    }\n",
       "\n",
       "    .dataframe tbody tr th {\n",
       "        vertical-align: top;\n",
       "    }\n",
       "\n",
       "    .dataframe thead th {\n",
       "        text-align: right;\n",
       "    }\n",
       "</style>\n",
       "<table border=\"1\" class=\"dataframe\">\n",
       "  <thead>\n",
       "    <tr style=\"text-align: right;\">\n",
       "      <th></th>\n",
       "      <th>0</th>\n",
       "    </tr>\n",
       "  </thead>\n",
       "  <tbody>\n",
       "    <tr>\n",
       "      <th>0</th>\n",
       "      <td>balaji</td>\n",
       "    </tr>\n",
       "    <tr>\n",
       "      <th>1</th>\n",
       "      <td>srinivasan</td>\n",
       "    </tr>\n",
       "    <tr>\n",
       "      <th>2</th>\n",
       "      <td>andreessen</td>\n",
       "    </tr>\n",
       "    <tr>\n",
       "      <th>3</th>\n",
       "      <td>buys</td>\n",
       "    </tr>\n",
       "    <tr>\n",
       "      <th>4</th>\n",
       "      <td>blockchain</td>\n",
       "    </tr>\n",
       "    <tr>\n",
       "      <th>5</th>\n",
       "      <td>makes</td>\n",
       "    </tr>\n",
       "    <tr>\n",
       "      <th>6</th>\n",
       "      <td>ceo</td>\n",
       "    </tr>\n",
       "    <tr>\n",
       "      <th>7</th>\n",
       "      <td>earncom</td>\n",
       "    </tr>\n",
       "    <tr>\n",
       "      <th>8</th>\n",
       "      <td>million</td>\n",
       "    </tr>\n",
       "    <tr>\n",
       "      <th>9</th>\n",
       "      <td>horowitz</td>\n",
       "    </tr>\n",
       "    <tr>\n",
       "      <th>10</th>\n",
       "      <td>coinbase</td>\n",
       "    </tr>\n",
       "    <tr>\n",
       "      <th>11</th>\n",
       "      <td>company</td>\n",
       "    </tr>\n",
       "    <tr>\n",
       "      <th>12</th>\n",
       "      <td>told</td>\n",
       "    </tr>\n",
       "    <tr>\n",
       "      <th>13</th>\n",
       "      <td>deal</td>\n",
       "    </tr>\n",
       "    <tr>\n",
       "      <th>14</th>\n",
       "      <td>cto</td>\n",
       "    </tr>\n",
       "  </tbody>\n",
       "</table>\n",
       "</div>"
      ],
      "text/plain": [
       "             0\n",
       "0       balaji\n",
       "1   srinivasan\n",
       "2   andreessen\n",
       "3         buys\n",
       "4   blockchain\n",
       "5        makes\n",
       "6          ceo\n",
       "7      earncom\n",
       "8      million\n",
       "9     horowitz\n",
       "10    coinbase\n",
       "11     company\n",
       "12        told\n",
       "13        deal\n",
       "14         cto"
      ]
     },
     "execution_count": 17,
     "metadata": {},
     "output_type": "execute_result"
    }
   ],
   "source": [
    "import pandas as pd\n",
    "df = pd.DataFrame(article.keywords)\n",
    "df"
   ]
  }
 ],
 "metadata": {
  "kernelspec": {
   "display_name": "Python 3",
   "language": "python",
   "name": "python3"
  },
  "language_info": {
   "codemirror_mode": {
    "name": "ipython",
    "version": 3
   },
   "file_extension": ".py",
   "mimetype": "text/x-python",
   "name": "python",
   "nbconvert_exporter": "python",
   "pygments_lexer": "ipython3",
   "version": "3.6.3"
  }
 },
 "nbformat": 4,
 "nbformat_minor": 2
}
